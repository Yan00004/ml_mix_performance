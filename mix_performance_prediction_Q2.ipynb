{
 "cells": [
  {
   "cell_type": "markdown",
   "id": "0e603066",
   "metadata": {},
   "source": [
    "# Asphalt Mixture Performance Prediction Using Machine Learning\n",
    "\n",
    "Tianhao Yan, yantianhao2022@gmail.com, 7/24/2025\n",
    "\n",
    "This project aims to develop machine learning model for performance prediction of asphalt mixtures based on a dataset shared by NCAT. \n",
    "\n",
    "The project contains 4 consecutive tasks:\n",
    "\n",
    "1. Data Cleaning and Preparation\n",
    "2. Data Comparison Across Years\n",
    "3. Development of Models\n",
    "4. Deployment of Developed Models"
   ]
  },
  {
   "cell_type": "markdown",
   "id": "4e7d38a4",
   "metadata": {},
   "source": [
    "## Q2. Data Comparison Across Years"
   ]
  },
  {
   "cell_type": "code",
   "execution_count": 21,
   "id": "72e85cbb",
   "metadata": {},
   "outputs": [],
   "source": [
    "# import packages\n",
    "import numpy as np\n",
    "import pandas as pd\n",
    "import matplotlib.pyplot as plt"
   ]
  },
  {
   "cell_type": "markdown",
   "id": "0732c94b",
   "metadata": {},
   "source": [
    "Read the dataset generated in task 1\n",
    "\n",
    "data_all = merged dataset\n",
    "data_or  = outlier-removed dataset"
   ]
  },
  {
   "cell_type": "code",
   "execution_count": 22,
   "id": "90b2de05",
   "metadata": {},
   "outputs": [],
   "source": [
    "data_all = pd.read_excel(\"NCAT Test Results Dataset.xlsx\", sheet_name=0, header = 0, index_col=0)\n",
    "data_or  = pd.read_excel(\"NCAT Test Results Dataset.xlsx\", sheet_name=1, header = 0, index_col=0)"
   ]
  },
  {
   "cell_type": "markdown",
   "id": "abfde04d",
   "metadata": {},
   "source": [
    "### 2.1. Count Number of Valid CT-Index Data\n",
    "\n",
    "Count the number of valid data for each mix type and construction year.\n",
    "Here valid data means those are not outlier and not missing."
   ]
  },
  {
   "cell_type": "code",
   "execution_count": 23,
   "id": "c732c1d6",
   "metadata": {},
   "outputs": [
    {
     "name": "stdout",
     "output_type": "stream",
     "text": [
      "Number of valid IDEAL-CT samples of mix type IIS from 2020: 13\n",
      "Number of valid IDEAL-CT samples of mix type IIS from 2022: 12\n",
      "Number of valid IDEAL-CT samples of mix type IIS from 2023: 16\n",
      "Number of valid IDEAL-CT samples of mix type IIIS from 2020: 0\n",
      "Number of valid IDEAL-CT samples of mix type IIIS from 2022: 0\n",
      "Number of valid IDEAL-CT samples of mix type IIIS from 2023: 8\n",
      "Number of valid IDEAL-CT samples of mix type IVS from 2020: 28\n",
      "Number of valid IDEAL-CT samples of mix type IVS from 2022: 55\n",
      "Number of valid IDEAL-CT samples of mix type IVS from 2023: 28\n"
     ]
    }
   ],
   "source": [
    "# Count the number of valid CT-Index data for each mix type and construction year\n",
    "performance = \"Avg. CTindex\"\n",
    "years = [2020, 2022, 2023]\n",
    "types = [\"IIS\",\"IIIS\",\"IVS\"]\n",
    "test = {\"Avg. Rut Depth\":\"HWTT\", \"Avg. CTindex\": \"IDEAL-CT\"}\n",
    "\n",
    "for type in types:\n",
    "    for year in years:\n",
    "        number_count = 0\n",
    "        number_locations = []\n",
    "\n",
    "        my_list = data_or[performance][(data_or[\"Type\"]==type) & (data_or[\"Construction Year\"]==year)]\n",
    "        for index, item in enumerate(my_list):\n",
    "            # Check if the item is a number (e.g., an integer or float).\n",
    "            if isinstance(item, (int, float)) and (not np.isnan(item)):\n",
    "                number_count += 1\n",
    "                number_locations.append(index)\n",
    "\n",
    "        print(\"Number of valid \"+ test[performance] + \" samples of mix type \" + type + \" from \" + str(year) + f\": {number_count}\")"
   ]
  },
  {
   "cell_type": "markdown",
   "id": "f0e55159",
   "metadata": {},
   "source": [
    "### 2.2. One-Way Analyze of Variance (ANOVA) across Years\n",
    "\n",
    "For each mix type, ANOVA was performed to investigate whether the CT-Index from 2020, 2022, and 2023 come from the same population. The analyses were performed for mix type IIS and IVS only, because IIIS missing data. "
   ]
  },
  {
   "cell_type": "markdown",
   "id": "8ef9a5d5",
   "metadata": {},
   "source": [
    "Visualization of CT-Index data grouped by mix type and construction year"
   ]
  },
  {
   "cell_type": "code",
   "execution_count": 24,
   "id": "bd710a63",
   "metadata": {},
   "outputs": [
    {
     "data": {
      "image/png": "[encoded data removed]",
      "text/plain": [
       "<Figure size 640x480 with 1 Axes>"
      ]
     },
     "metadata": {},
     "output_type": "display_data"
    }
   ],
   "source": [
    "data_or.boxplot(column='Avg. CTindex', by=['Type','Construction Year'])\n",
    "plt.ylabel('CT-Index')\n",
    "plt.title('Boxplot Grouped by Mix Type and Construction Year')\n",
    "plt.suptitle('')\n",
    "plt.show()"
   ]
  },
  {
   "cell_type": "markdown",
   "id": "1c54d6dc",
   "metadata": {},
   "source": [
    "#### One-Way ANOVA for IIS mixtures"
   ]
  },
  {
   "cell_type": "code",
   "execution_count": 25,
   "id": "f952771b",
   "metadata": {},
   "outputs": [
    {
     "name": "stdout",
     "output_type": "stream",
     "text": [
      "                             sum_sq    df         F    PR(>F)\n",
      "C(Construction_Year)   12151.932870   2.0  1.698086  0.196628\n",
      "Residual              135968.778349  38.0       NaN       NaN\n"
     ]
    }
   ],
   "source": [
    "import statsmodels.api as sm\n",
    "from statsmodels.formula.api import ols\n",
    "\n",
    "type = \"IIS\"\n",
    "data_type = data_or[data_or[\"Type\"]==type]\n",
    "data_type = data_type.rename(columns={'Avg. CTindex': 'Avg_CTindex', 'Avg. Rut Depth':'Avg_Rut_Depth', 'Construction Year': 'Construction_Year'})\n",
    "data_type = data_type.dropna(subset=['Avg_CTindex', 'Construction_Year'])\n",
    "\n",
    "# Fit the model\n",
    "oneway_anova = ols('Avg_CTindex ~ C(Construction_Year)', data=data_type).fit()\n",
    "\n",
    "# Perform ANOVA table\n",
    "anova_table = sm.stats.anova_lm(oneway_anova, typ=2)\n",
    "print(anova_table)"
   ]
  },
  {
   "cell_type": "markdown",
   "id": "439a1399",
   "metadata": {},
   "source": [
    "#### One-Way ANOVA for IVS mixtures"
   ]
  },
  {
   "cell_type": "code",
   "execution_count": 26,
   "id": "e750813f",
   "metadata": {},
   "outputs": [
    {
     "name": "stdout",
     "output_type": "stream",
     "text": [
      "                             sum_sq     df          F        PR(>F)\n",
      "C(Construction_Year)  145673.276171    2.0  23.278678  3.926812e-09\n",
      "Residual              337921.118604  108.0        NaN           NaN\n"
     ]
    }
   ],
   "source": [
    "import statsmodels.api as sm\n",
    "from statsmodels.formula.api import ols\n",
    "\n",
    "type = \"IVS\"\n",
    "data_type = data_or[data_or[\"Type\"]==type]\n",
    "data_type = data_type.rename(columns={'Avg. CTindex': 'Avg_CTindex', 'Avg. Rut Depth':'Avg_Rut_Depth', 'Construction Year': 'Construction_Year'})\n",
    "data_type = data_type.dropna(subset=['Avg_CTindex', 'Construction_Year'])\n",
    "\n",
    "# Fit the model\n",
    "oneway_anova = ols('Avg_CTindex ~ C(Construction_Year)', data=data_type).fit()\n",
    "\n",
    "# Perform ANOVA table\n",
    "anova_table = sm.stats.anova_lm(oneway_anova, typ=2)\n",
    "print(anova_table)"
   ]
  },
  {
   "cell_type": "markdown",
   "id": "882370ec",
   "metadata": {},
   "source": [
    "The p-value for IIS mixtures is 0.197, which is greater than the significance level of 0.05, indicating that there is no statistically significant difference in CT-Index across the different years. In contrast, the p-value for IVS mixtures is well below 0.001, indicating a significant difference in CT-Index between years. To determine which year differs from others, a post hoc analysis was conducted using Tukey's Honestly Significant Difference (HSD) test for pairwise comparisons (Tukey 1949). "
   ]
  },
  {
   "cell_type": "markdown",
   "id": "3ca242e7",
   "metadata": {},
   "source": [
    "#### Tukey HSD Post Hoc Pairwise Comparison for IVS Mixtures"
   ]
  },
  {
   "cell_type": "code",
   "execution_count": 27,
   "id": "9ff8b894",
   "metadata": {},
   "outputs": [
    {
     "name": "stdout",
     "output_type": "stream",
     "text": [
      " Multiple Comparison of Means - Tukey HSD, FWER=0.05  \n",
      "======================================================\n",
      "group1 group2 meandiff p-adj   lower    upper   reject\n",
      "------------------------------------------------------\n",
      "  2020   2022   4.0032 0.949  -26.8574  34.8639  False\n",
      "  2020   2023  -80.675   0.0 -116.2023 -45.1477   True\n",
      "  2022   2023 -84.6782   0.0 -115.5389 -53.8176   True\n",
      "------------------------------------------------------\n"
     ]
    },
    {
     "data": {
      "text/plain": [
       "\"\\n# Optional visualization\\ntukey.plot_simultaneous(figsize=(8,6)) \\nplt.title('Tukey HSD Test - Multiple Comparisons')\\nplt.show()\\n\""
      ]
     },
     "execution_count": 27,
     "metadata": {},
     "output_type": "execute_result"
    }
   ],
   "source": [
    "from statsmodels.stats.multicomp import pairwise_tukeyhsd\n",
    "\n",
    "# Assume 'value' is numeric DV, 'group' is categorical IV\n",
    "tukey = pairwise_tukeyhsd(endog=data_type['Avg_CTindex'], groups=data_type['Construction_Year'].astype('category'), alpha=0.05)\n",
    "\n",
    "print(tukey)\n",
    "\n",
    "'''\n",
    "# Optional visualization\n",
    "tukey.plot_simultaneous(figsize=(8,6)) \n",
    "plt.title('Tukey HSD Test - Multiple Comparisons')\n",
    "plt.show()\n",
    "'''"
   ]
  },
  {
   "cell_type": "markdown",
   "id": "be44ae54",
   "metadata": {},
   "source": [
    "The results show that the CT-Index for 2023 is significantly lower than those for 2020 and 2022, while no significant difference was observed between 2020 and 2022. "
   ]
  },
  {
   "cell_type": "markdown",
   "id": "c60a3621",
   "metadata": {},
   "source": [
    "### 2.3. Alternative Approach: Two-Way ANOVA without Interaction\n",
    "\n"
   ]
  },
  {
   "cell_type": "markdown",
   "id": "6634bef8",
   "metadata": {},
   "source": [
    "The previous analysis studied the effect of construction year on CT-Index by performing separate one-way ANOVAs within each mix type. This approach treats each mix independently and does not account for the potential consistency of the year effect across different mix types. For instance, the one-way ANOVA indicated a significant year effect for the IVS mixtures but not for the IIS mixtures, which presents a contradiction and complicates drawing conclusions about the overall effect of year on CT-Index.\n",
    "\n",
    "A more coherent approach is to use a two-way ANOVA, which models the effects of both year and mix type simultaneously. This unified model captures the consistent trend of the year effect across mix types via the main effect of year, while also assessing the influence of mix type. By including all data in a single analysis, two-way ANOVA increases the effective sample size for hypothesis testing, thereby enhancing statistical power and the reliability of the results.\n",
    "\n",
    "It is worth noting that the dataset has missing values for mix type IIIS in 2020 and 2022, posing challenges for fitting a full two-way ANOVA model that includes interaction between mix type and year. Since the main objective centers on the overall year effect rather than the interaction, we apply the two-way ANOVA without the interaction term. This approach assumes independence between the effects of year and mix type—meaning the effect of year on CT-Index is consistent across mix types. Based on engineering judgment, this assumption is reasonable for the current study.\n",
    "\n"
   ]
  },
  {
   "cell_type": "code",
   "execution_count": 28,
   "id": "8ac65953",
   "metadata": {},
   "outputs": [
    {
     "name": "stdout",
     "output_type": "stream",
     "text": [
      "Two-way ANOVA results:\n",
      "                             sum_sq     df         F    PR(>F)\n",
      "C(Construction_Year)   65595.952891    2.0  8.952651  0.000209\n",
      "C(Type)                33992.649284    2.0  4.639376  0.011045\n",
      "Residual              567841.473104  155.0       NaN       NaN\n"
     ]
    }
   ],
   "source": [
    "# Two-way ANOVA\n",
    "\n",
    "import statsmodels.api as sm\n",
    "from statsmodels.formula.api import ols\n",
    "\n",
    "# Example DataFrame\n",
    "# Assume df with columns: 'value' (numeric), 'group' (categorical)\n",
    "# df = pd.DataFrame({'value': [...], 'group': [...]})\n",
    "type = \"IVS\"\n",
    "data_type_all = data_or\n",
    "data_type_all = data_type_all.rename(columns={'Avg. CTindex': 'Avg_CTindex', 'Avg. Rut Depth':'Avg_Rut_Depth', 'Construction Year': 'Construction_Year'})\n",
    "data_type_all = data_type_all.dropna(subset=['Avg_CTindex', 'Construction_Year', 'Type'])\n",
    "# Fit the model\n",
    "twoway_anova = ols('Avg_CTindex ~ C(Construction_Year) + C(Type)', data=data_type_all).fit()\n",
    "\n",
    "# Perform ANOVA table\n",
    "anova_table = sm.stats.anova_lm(twoway_anova, typ=2)\n",
    "print(\"Two-way ANOVA results:\")\n",
    "print(anova_table)"
   ]
  },
  {
   "cell_type": "markdown",
   "id": "19689018",
   "metadata": {},
   "source": [
    "The results show that both year and mix type have p-values less than 0.05, indicating statistically significant overall effects of these factors on CT-Index. "
   ]
  },
  {
   "cell_type": "markdown",
   "id": "0e271726",
   "metadata": {},
   "source": [
    "#### Tukey HSD Post Hoc Pairwise Comparison for Two-Way ANOVA"
   ]
  },
  {
   "cell_type": "markdown",
   "id": "2cac2565",
   "metadata": {},
   "source": [
    "The Tukey HSD post hoc test indicated that the CT-Index in 2023 is significantly lower than in 2020 and 2022, while the IVS mix type has a significantly higher CT-Index than the other types. "
   ]
  },
  {
   "cell_type": "code",
   "execution_count": 29,
   "id": "2ff8141c",
   "metadata": {},
   "outputs": [
    {
     "name": "stdout",
     "output_type": "stream",
     "text": [
      " Multiple Comparison of Means - Tukey HSD, FWER=0.05 \n",
      "=====================================================\n",
      "group1 group2 meandiff p-adj   lower   upper   reject\n",
      "-----------------------------------------------------\n",
      "  IIIS    IIS  42.7646  0.193 -15.326 100.8552  False\n",
      "  IIIS    IVS  79.9617 0.0021 24.9428 134.9806   True\n",
      "   IIS    IVS  37.1971 0.0046    9.73  64.6642   True\n",
      "-----------------------------------------------------\n"
     ]
    },
    {
     "data": {
      "image/png": "[encoded data removed]",
      "text/plain": [
       "<Figure size 1000x600 with 1 Axes>"
      ]
     },
     "metadata": {},
     "output_type": "display_data"
    }
   ],
   "source": [
    "from statsmodels.stats.multicomp import pairwise_tukeyhsd\n",
    "\n",
    "# For the 'Type' factor\n",
    "tukey_type = pairwise_tukeyhsd(endog=data_type_all['Avg_CTindex'],\n",
    "                               groups=data_type_all['Type'],\n",
    "                               alpha=0.05)\n",
    "print(tukey_type)\n",
    "tukey_type.plot_simultaneous()\n",
    "plt.show()"
   ]
  },
  {
   "cell_type": "code",
   "execution_count": 30,
   "id": "e26f63c0",
   "metadata": {},
   "outputs": [
    {
     "name": "stdout",
     "output_type": "stream",
     "text": [
      " Multiple Comparison of Means - Tukey HSD, FWER=0.05 \n",
      "=====================================================\n",
      "group1 group2 meandiff p-adj  lower    upper   reject\n",
      "-----------------------------------------------------\n",
      "  2020   2022  12.2949 0.577 -16.7529  41.3428  False\n",
      "  2020   2023  -47.417 0.001  -78.014 -16.8199   True\n",
      "  2022   2023 -59.7119   0.0 -86.7867  -32.637   True\n",
      "-----------------------------------------------------\n"
     ]
    },
    {
     "data": {
      "image/png": "[encoded data removed]",
      "text/plain": [
       "<Figure size 1000x600 with 1 Axes>"
      ]
     },
     "metadata": {},
     "output_type": "display_data"
    }
   ],
   "source": [
    "from statsmodels.stats.multicomp import pairwise_tukeyhsd\n",
    "\n",
    "# For the 'Type' factor\n",
    "tukey_type = pairwise_tukeyhsd(endog=data_type_all['Avg_CTindex'],\n",
    "                               groups=data_type_all['Construction_Year'],\n",
    "                               alpha=0.05)\n",
    "print(tukey_type)\n",
    "tukey_type.plot_simultaneous()\n",
    "plt.show()"
   ]
  }
 ],
 "metadata": {
  "kernelspec": {
   "display_name": "NACT_code_venv",
   "language": "python",
   "name": "python3"
  },
  "language_info": {
   "codemirror_mode": {
    "name": "ipython",
    "version": 3
   },
   "file_extension": ".py",
   "mimetype": "text/x-python",
   "name": "python",
   "nbconvert_exporter": "python",
   "pygments_lexer": "ipython3",
   "version": "3.13.1"
  }
 },
 "nbformat": 4,
 "nbformat_minor": 5
}
